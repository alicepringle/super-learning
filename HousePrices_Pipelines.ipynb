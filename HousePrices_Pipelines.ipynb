{
 "cells": [
  {
   "cell_type": "code",
   "execution_count": 6,
   "metadata": {},
   "outputs": [
    {
     "name": "stderr",
     "output_type": "stream",
     "text": [
      "INFO:root:MAE train = $5107.16\tMAE test = $20919.10\n",
      "INFO:root:log RMSE train = 0.0469\tlog RMSE test = 0.1687\n"
     ]
    }
   ],
   "source": [
    "import logging\n",
    "import pandas as pd\n",
    "from sklearn.compose import ColumnTransformer\n",
    "from sklearn.model_selection import train_test_split\n",
    "from sklearn.impute import SimpleImputer\n",
    "from sklearn.preprocessing import StandardScaler, OneHotEncoder\n",
    "from sklearn.pipeline import Pipeline\n",
    "from sklearn.ensemble import GradientBoostingRegressor\n",
    "from sklearn.metrics import mean_absolute_error, mean_squared_error\n",
    "import numpy as np\n",
    "\n",
    "\n",
    "def train():\n",
    "    df = pd.read_csv('../data/train.csv')\n",
    "    train_df, test_df = train_test_split(df, test_size = 0.2)\n",
    "    # select columns to use in the model\n",
    "    cont_cols = ['LotArea', 'LotFrontage', 'OverallQual', 'OverallCond', 'YearBuilt',\n",
    "                 'MasVnrArea', 'BsmtFinSF1']\n",
    "    cat_cols = [\n",
    "        'MSSubClass', 'MSZoning', 'Street', 'Alley', 'LotShape',\n",
    "        'LandContour', 'Utilities', 'LotConfig', 'LandSlope',\n",
    "        'Neighborhood', 'Condition1', 'Condition2',\n",
    "        'BldgType', 'HouseStyle', 'RoofStyle', 'RoofMatl',\n",
    "        'Exterior1st', 'Exterior2nd', 'MasVnrType',\n",
    "        'ExterQual', 'ExterCond', 'Foundation',\n",
    "        'BsmtQual', 'BsmtCond',\n",
    "        'BsmtExposure', 'BsmtFinType1', 'BsmtFinType2',\n",
    "    ]\n",
    "    # define preprocessing steps for categorical and continuous features\n",
    "    numeric_transformer = Pipeline(steps=[\n",
    "        # impute NAs with the median value for that feature in the training set\n",
    "        ('imputer', SimpleImputer(strategy='median')),\n",
    "        # scale features to 0 mean and unit variance\n",
    "        ('scaler', StandardScaler())])\n",
    "    categorical_transformer = Pipeline(steps=[\n",
    "        # create a category called 'missing' for NA categorical feature values\n",
    "        ('imputer', SimpleImputer(strategy='constant', fill_value='missing')),\n",
    "        # one hot encode categorical features\n",
    "        ('onehot', OneHotEncoder(handle_unknown='ignore'))])\n",
    "    # apply each preprocessing pipeline to it's respective cols\n",
    "    preprocessor = ColumnTransformer(\n",
    "        transformers=[\n",
    "            ('num', numeric_transformer, cont_cols),\n",
    "            ('cat', categorical_transformer, cat_cols)])\n",
    "    # create full pipeline including preprocessing and the model\n",
    "    pipeline = Pipeline(steps=[('preprocessor', preprocessor),\n",
    "                          ('model', GradientBoostingRegressor(\n",
    "        n_estimators=1000\n",
    "    ))])\n",
    "    X_train = train_df[cont_cols + cat_cols]\n",
    "    X_test = test_df[cont_cols + cat_cols]\n",
    "    Y_train = train_df['SalePrice'].values\n",
    "    Y_test = test_df['SalePrice'].values\n",
    "    pipeline.fit(X_train, Y_train)\n",
    "    Y_hat_train = pipeline.predict(X_train)\n",
    "    Y_hat_test = pipeline.predict(X_test)\n",
    "    train_mae = mean_absolute_error(Y_train, Y_hat_train)\n",
    "    test_mae = mean_absolute_error(Y_test, Y_hat_test)\n",
    "    logging.info(\"MAE train = ${:.2f}\\tMAE test = ${:.2f}\".format(\n",
    "        train_mae,\n",
    "        test_mae\n",
    "    ))\n",
    "    train_log_rmse = mean_squared_error(np.log(Y_train), np.log(Y_hat_train), squared=False)\n",
    "    test_log_rmse = mean_squared_error(np.log(Y_test), np.log(Y_hat_test), squared=False)\n",
    "    logging.info(\"log RMSE train = {:.4f}\\tlog RMSE test = {:.4f}\".format(\n",
    "        train_log_rmse,\n",
    "        test_log_rmse\n",
    "    ))\n",
    "\n",
    "\n",
    "if __name__ == '__main__':\n",
    "    logging.basicConfig(level=logging.DEBUG)\n",
    "    train()"
   ]
  }
 ],
 "metadata": {
  "kernelspec": {
   "display_name": "Python 3",
   "language": "python",
   "name": "python3"
  },
  "language_info": {
   "codemirror_mode": {
    "name": "ipython",
    "version": 3
   },
   "file_extension": ".py",
   "mimetype": "text/x-python",
   "name": "python",
   "nbconvert_exporter": "python",
   "pygments_lexer": "ipython3",
   "version": "3.8.3"
  }
 },
 "nbformat": 4,
 "nbformat_minor": 4
}
